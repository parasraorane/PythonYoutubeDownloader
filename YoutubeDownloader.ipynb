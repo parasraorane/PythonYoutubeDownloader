{
 "cells": [
  {
   "cell_type": "code",
   "execution_count": 1,
   "id": "6a6ffd1f",
   "metadata": {},
   "outputs": [],
   "source": [
    "def yt_download(folder_name=None):\n",
    "    from pytube import YouTube\n",
    "    \n",
    "    yt=YouTube(input(\"Please enter the Youtube URL:\\n\"))\n",
    "    print(\"\\nTitle:\",yt.title)\n",
    "    formt=input(\"\\nPlease enter the download format: Video or Audio\\n\")\n",
    "    formt=formt.lower()\n",
    "    \n",
    "    if formt==\"video\":\n",
    "        print(\"\\nPlease choose the video to download:\")\n",
    "        streams=[ i for i in yt.streams.filter(type=\"video\")\\\n",
    "                 .order_by('resolution')[::-1] if i.audio_codec!=None]\n",
    "                \n",
    "        for j,i in enumerate(streams):\n",
    "            print(j+1,\") Resolution:\",i.resolution,\", Format:\",\\\n",
    "                  i.mime_type[6:],\", FPS: \",i.fps)\n",
    "        \n",
    "        num=int(input(\"\\nEnter the preferred number: \"))\n",
    "        \n",
    "        print(\"\\nDownloading...\")\n",
    "        streams[num-1].download(folder_name)\n",
    "        print(\"Download completed successfully\")\n",
    "        \n",
    "    else:\n",
    "        print(\"\\nPlease choose the audio to download:\")\n",
    "        streams=yt.streams.filter(type=\"audio\").order_by('abr')[::-1]\n",
    "        \n",
    "        for j,i in enumerate(streams):\n",
    "            print(j+1,\") Bitrate :\",i.abr,\", Format:\",i.mime_type[6:],\\\n",
    "                  \", FileSize:\",round((i.filesize)/1048576,2),\"mb\")\n",
    "        \n",
    "        num=int(input(\"\\nEnter the preferred number: \"))\n",
    "        \n",
    "        print(\"\\nDownloading...\")\n",
    "        streams[num-1].download(folder_name)\n",
    "        print(\"Download completed successfully\")"
   ]
  },
  {
   "cell_type": "code",
   "execution_count": 2,
   "id": "b3a991a9",
   "metadata": {
    "scrolled": true
   },
   "outputs": [
    {
     "name": "stdout",
     "output_type": "stream",
     "text": [
      "Please enter the Youtube URL:\n",
      "https://www.youtube.com/watch?v=dQw4w9WgXcQ\n",
      "\n",
      "Title: Rick Astley - Never Gonna Give You Up (Official Music Video)\n",
      "\n",
      "Please enter the download format: Video or Audio\n",
      "Video\n",
      "\n",
      "Please choose the video to download:\n",
      "1 ) Resolution: 720p , Format: mp4 , FPS:  25\n",
      "2 ) Resolution: 360p , Format: mp4 , FPS:  25\n",
      "3 ) Resolution: 144p , Format: 3gpp , FPS:  6\n",
      "\n",
      "Enter the preferred number: 1\n",
      "\n",
      "Downloading...\n",
      "Download completed successfully\n"
     ]
    }
   ],
   "source": [
    "yt_download()"
   ]
  }
 ],
 "metadata": {
  "kernelspec": {
   "display_name": "Python 3 (ipykernel)",
   "language": "python",
   "name": "python3"
  },
  "language_info": {
   "codemirror_mode": {
    "name": "ipython",
    "version": 3
   },
   "file_extension": ".py",
   "mimetype": "text/x-python",
   "name": "python",
   "nbconvert_exporter": "python",
   "pygments_lexer": "ipython3",
   "version": "3.8.5"
  }
 },
 "nbformat": 4,
 "nbformat_minor": 5
}
